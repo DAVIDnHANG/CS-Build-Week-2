{
 "cells": [
  {
   "cell_type": "markdown",
   "metadata": {
    "collapsed": true,
    "pycharm": {
     "name": "#%% md\n"
    }
   },
   "source": [
    "We have an array = [10,4,6,7]\n",
    "with this seen = {} dictionary.\n",
    "When We have an element it fills the seen dictionary.\n",
    "seen={10}. Then iterate to check with the seen."
   ]
  },
  {
   "cell_type": "code",
   "execution_count": null,
   "outputs": [],
   "source": [
    "array = [10,4,6,7]\n",
    "boolean = False\n",
    "seen = {}\n",
    "for i in array:\n",
    "    if i not in seen:\n",
    "        seen[i]=1\n",
    "    else:\n",
    "        if seen[i]==1:\n",
    "            return True"
   ],
   "metadata": {
    "collapsed": false,
    "pycharm": {
     "name": "#%%\n"
    }
   }
  },
  {
   "cell_type": "markdown",
   "source": [
    "we have a List.\n",
    "We will python package sets to make from List. Set will only copy one value and ignore all duplicates from the list.\n",
    "if sets is smaller or bigger then List, then its not 1 to 1.\n",
    "It takes O(n) to make the sets. then compare length."
   ],
   "metadata": {
    "collapsed": false,
    "pycharm": {
     "name": "#%% md\n"
    }
   }
  },
  {
   "cell_type": "code",
   "execution_count": null,
   "outputs": [],
   "source": [
    "List = [10,2,5,6,3]\n",
    "sets = set(List)\n",
    "if len(sets) != len(List):\n",
    "    pass\n",
    "print(len(sets), len(List))"
   ],
   "metadata": {
    "collapsed": false,
    "pycharm": {
     "name": "#%%\n"
    }
   }
  }
 ],
 "metadata": {
  "kernelspec": {
   "display_name": "Python 3",
   "language": "python",
   "name": "python3"
  },
  "language_info": {
   "codemirror_mode": {
    "name": "ipython",
    "version": 2
   },
   "file_extension": ".py",
   "mimetype": "text/x-python",
   "name": "python",
   "nbconvert_exporter": "python",
   "pygments_lexer": "ipython2",
   "version": "2.7.6"
  },
  "pycharm": {
   "stem_cell": {
    "cell_type": "raw",
    "source": [],
    "metadata": {
     "collapsed": false
    }
   }
  }
 },
 "nbformat": 4,
 "nbformat_minor": 0
}