{
 "cells": [
  {
   "cell_type": "markdown",
   "metadata": {
    "collapsed": true,
    "pycharm": {
     "name": "#%% md\n"
    }
   },
   "source": [
    "numbers = [2,7,11,15] \n",
    "target = 9\n",
    "2+7 = 9\n",
    "indexas for two and seven are two and seven."
   ]
  },
  {
   "cell_type": "markdown",
   "source": [
    "for element in [2 7 11 15]\n",
    "      if 2+7 == target\n",
    "      then return index of 2 and 7.\n",
    "      else \n",
    "         go to next element\n",
    "         "
   ],
   "metadata": {
    "collapsed": false,
    "pycharm": {
     "name": "#%% md\n"
    }
   }
  },
  {
   "cell_type": "markdown",
   "source": [
    "hash method.\n",
    "let target = the first index of the array.\n",
    "        if the difference is in array. return the indexes of the array."
   ],
   "metadata": {
    "collapsed": false,
    "pycharm": {
     "name": "#%% md\n"
    }
   }
  },
  {
   "cell_type": "code",
   "execution_count": 1,
   "outputs": [
    {
     "traceback": [
      "\u001b[1;36m  File \u001b[1;32m\"<ipython-input-1-3e5128be6cff>\"\u001b[1;36m, line \u001b[1;32m5\u001b[0m\n\u001b[1;33m    if difference is in nums:\u001b[0m\n\u001b[1;37m                     ^\u001b[0m\n\u001b[1;31mSyntaxError\u001b[0m\u001b[1;31m:\u001b[0m invalid syntax\n"
     ],
     "ename": "SyntaxError",
     "evalue": "invalid syntax (<ipython-input-1-3e5128be6cff>, line 5)",
     "output_type": "error"
    }
   ],
   "source": [
    "class Solution:\n",
    "    def twoSum(self, nums: List[int], target: int) -> List[int]:\n",
    "        for index in range(len(nums)):\n",
    "            difference = target - nums[index]\n",
    "            if difference is in nums:\n",
    "                return [nums[index], difference]\n",
    "                \n",
    "            "
   ],
   "metadata": {
    "collapsed": false,
    "pycharm": {
     "name": "#%%\n",
     "is_executing": false
    }
   }
  },
  {
   "cell_type": "code",
   "execution_count": 17,
   "outputs": [
    {
     "name": "stdout",
     "text": [
      "in\n[1, 2]\nin\n[2, 1]\n"
     ],
     "output_type": "stream"
    }
   ],
   "source": [
    "#find the difference of target and element in (nums).\n",
    "#use the difference to check if its in the nums and the index is not equal to the element we subtracted from.\n",
    "#\n",
    "class Solution:\n",
    "    def twoSum(self, nums: List[int], target: int) -> List[int]:\n",
    "        for index in range(len(nums)):\n",
    "            difference = target - nums[index]\n",
    "            if difference in nums and index != nums.index(difference):\n",
    "                return [index, nums.index(difference)]"
   ],
   "metadata": {
    "collapsed": false,
    "pycharm": {
     "name": "#%%\n",
     "is_executing": false
    }
   }
  },
  {
   "cell_type": "code",
   "execution_count": null,
   "outputs": [],
   "source": [
    "\n"
   ],
   "metadata": {
    "collapsed": false,
    "pycharm": {
     "name": "#%%\n"
    }
   }
  }
 ],
 "metadata": {
  "kernelspec": {
   "display_name": "Python 3",
   "language": "python",
   "name": "python3"
  },
  "language_info": {
   "codemirror_mode": {
    "name": "ipython",
    "version": 2
   },
   "file_extension": ".py",
   "mimetype": "text/x-python",
   "name": "python",
   "nbconvert_exporter": "python",
   "pygments_lexer": "ipython2",
   "version": "2.7.6"
  },
  "pycharm": {
   "stem_cell": {
    "cell_type": "raw",
    "source": [],
    "metadata": {
     "collapsed": false
    }
   }
  }
 },
 "nbformat": 4,
 "nbformat_minor": 0
}