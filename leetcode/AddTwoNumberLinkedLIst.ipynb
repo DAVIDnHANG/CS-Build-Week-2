{
 "cells": [
  {
   "cell_type": "code",
   "execution_count": 3,
   "metadata": {
    "collapsed": true,
    "pycharm": {
     "is_executing": false
    }
   },
   "outputs": [],
   "source": [
    "# Definition for singly-linked list.\n",
    "class ListNode:\n",
    "     def __init__(self, x):\n",
    "         self.value = x\n",
    "         self.next = None\n",
    "    def add_to_head(self, value):"
   ]
  },
  {
   "cell_type": "code",
   "execution_count": 5,
   "outputs": [
    {
     "traceback": [
      "\u001b[1;31m---------------------------------------------------------------------------\u001b[0m",
      "\u001b[1;31mAttributeError\u001b[0m                            Traceback (most recent call last)",
      "\u001b[1;32m<ipython-input-5-b0c4a27c4257>\u001b[0m in \u001b[0;36m<module>\u001b[1;34m\u001b[0m\n\u001b[0;32m      1\u001b[0m \u001b[0mlistone\u001b[0m \u001b[1;33m=\u001b[0m \u001b[0mListNode\u001b[0m\u001b[1;33m(\u001b[0m\u001b[1;36m2\u001b[0m\u001b[1;33m)\u001b[0m\u001b[1;33m\u001b[0m\u001b[1;33m\u001b[0m\u001b[0m\n\u001b[1;32m----> 2\u001b[1;33m \u001b[0mlistone\u001b[0m\u001b[1;33m.\u001b[0m\u001b[0mappend\u001b[0m\u001b[1;33m(\u001b[0m\u001b[1;36m2\u001b[0m\u001b[1;33m)\u001b[0m\u001b[1;33m\u001b[0m\u001b[1;33m\u001b[0m\u001b[0m\n\u001b[0m",
      "\u001b[1;31mAttributeError\u001b[0m: 'ListNode' object has no attribute 'append'"
     ],
     "ename": "AttributeError",
     "evalue": "'ListNode' object has no attribute 'append'",
     "output_type": "error"
    }
   ],
   "source": [
    "listone = ListNode(2)\n",
    "listone.append(2)"
   ],
   "metadata": {
    "collapsed": false,
    "pycharm": {
     "name": "#%%\n",
     "is_executing": false
    }
   }
  },
  {
   "cell_type": "markdown",
   "source": [
    "      [value | next]    [value| next]    \n",
    "                           r\n",
    "linklist1 x      NULL      a   |        -> None\n",
    "linklist2 y    --------->  0    | Null   ->  d\n",
    "----------------------------------------------------------\n",
    "sum     x+y    ---------->\n",
    "      x+y >10\n",
    "      r =1\n",
    "______________________________________________________________________________\n",
    "\n",
    "      [value | next]    [value| next]    \n",
    "linklist1 c     -------->  ?  | NULL      \n",
    "linklist2 d    --------->  ?      \n",
    "      "
   ],
   "metadata": {
    "collapsed": false,
    "pycharm": {
     "name": "#%% md\n"
    }
   }
  },
  {
   "cell_type": "code",
   "execution_count": null,
   "outputs": [],
   "source": [
    "\n",
    "class Solution:\n",
    "    def addTwoNumbers(self, l1: ListNode, l2: ListNode) -> ListNode:\n",
    "        pointer1 = l1\n",
    "        pointer2 = l2\n",
    "        remainder = 0\n",
    "        Head = current = ListNode(0)\n",
    "        \n",
    "        while pointer1 or pointer2 or remainder:\n",
    "            sumOfLinkedList = remainder\n",
    "            sumOfLinkedList += 0 if pointer1 is None else pointer1.value\n",
    "            sumOfLinkedList += 0 if pointer2 is None else pointer2.value\n",
    "            if sumOfLinkedList >= 10:\n",
    "                sumOfLinkedList = sumOfLinkedList - 10\n",
    "                remainder = 1\n",
    "            else:\n",
    "                remainder = 0\n",
    "        \n",
    "            current.next = ListNode(sumOfLinkedList)\n",
    "            current = current.next\n",
    "            \n",
    "            if pointer1 is None and pointer2 is None:\n",
    "                break\n",
    "            elif pointer1 is None:\n",
    "                pointer2 = pointer2.next\n",
    "            elif pointer2 is None:\n",
    "                pointer1 = pointer1.next\n",
    "            else:\n",
    "                pointer1 = pointer1.next\n",
    "                pointer2 = pointer2.next\n",
    "                \n",
    "        \n",
    " "
   ],
   "metadata": {
    "collapsed": false,
    "pycharm": {
     "name": "#%%\n"
    }
   }
  },
  {
   "cell_type": "code",
   "execution_count": null,
   "outputs": [],
   "source": [
    "\n"
   ],
   "metadata": {
    "collapsed": false,
    "pycharm": {
     "name": "#%%\n"
    }
   }
  }
 ],
 "metadata": {
  "kernelspec": {
   "display_name": "Python 3",
   "language": "python",
   "name": "python3"
  },
  "language_info": {
   "codemirror_mode": {
    "name": "ipython",
    "version": 2
   },
   "file_extension": ".py",
   "mimetype": "text/x-python",
   "name": "python",
   "nbconvert_exporter": "python",
   "pygments_lexer": "ipython2",
   "version": "2.7.6"
  },
  "pycharm": {
   "stem_cell": {
    "cell_type": "raw",
    "source": [],
    "metadata": {
     "collapsed": false
    }
   }
  }
 },
 "nbformat": 4,
 "nbformat_minor": 0
}