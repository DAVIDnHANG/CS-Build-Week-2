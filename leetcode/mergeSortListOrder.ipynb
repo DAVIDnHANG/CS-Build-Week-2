{
 "cells": [
  {
   "cell_type": "code",
   "execution_count": null,
   "metadata": {
    "collapsed": true,
    "pycharm": {
     "is_executing": true
    }
   },
   "outputs": [],
   "source": [
    "# Definition for singly-linked list.\n",
    "class ListNode:\n",
    "     def __init__(self, value=0, next=None):\n",
    "         self.value = value\n",
    "         self.next = next\n",
    "#class ListNode:\n",
    "#     def __init__(self, val=0, next=None):\n",
    "#         self.val = val\n",
    "#         self.next = next\n",
    "class Solution:\n",
    "    def mergeTwoLists(self, l1: ListNode, l2: ListNode) -> ListNode:\n",
    "        # Initializing head of the result\n",
    "       \n",
    "        returnThisMerge = merge_Node = ListNode(0)\n",
    "\n",
    "        while l1 and l2:\n",
    "            if l1.val <= l2.val:\n",
    "                merge_Node.next, l1 = l1, l1.next \n",
    "            else:\n",
    "                merge_Node.next, l2 = l2, l2.next\n",
    "                \n",
    "            merge_Node = merge_Node.next\n",
    "            \n",
    "        merge_Node.next = l1 or l2\n",
    "        \n",
    "        return returnThisMerge.next"
   ]
  },
  {
   "cell_type": "code",
   "execution_count": null,
   "outputs": [],
   "source": [],
   "metadata": {
    "collapsed": false,
    "pycharm": {
     "name": "#%%\n",
     "is_executing": true
    }
   }
  },
  {
   "cell_type": "markdown",
   "source": [
    "4 | ----> 6 | ----> 7----> null\n",
    "1 | ----> 3 ----> null\n",
    "\n",
    "while node1 or node2 is not empty\n",
    "listNode ---> 4 or 1.\n",
    "      if node < node\n",
    "      appendSmallest\n",
    "   else append other.\n",
    "  then check not smallest node with other next value.\n",
    "  "
   ],
   "metadata": {
    "collapsed": false,
    "pycharm": {
     "name": "#%% md\n"
    }
   }
  }
 ],
 "metadata": {
  "kernelspec": {
   "display_name": "Python 3",
   "language": "python",
   "name": "python3"
  },
  "language_info": {
   "codemirror_mode": {
    "name": "ipython",
    "version": 2
   },
   "file_extension": ".py",
   "mimetype": "text/x-python",
   "name": "python",
   "nbconvert_exporter": "python",
   "pygments_lexer": "ipython2",
   "version": "2.7.6"
  },
  "pycharm": {
   "stem_cell": {
    "cell_type": "raw",
    "source": [],
    "metadata": {
     "collapsed": false
    }
   }
  }
 },
 "nbformat": 4,
 "nbformat_minor": 0
}