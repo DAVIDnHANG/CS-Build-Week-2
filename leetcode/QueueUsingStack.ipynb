{
 "cells": [
  {
   "cell_type": "code",
   "execution_count": null,
   "metadata": {
    "collapsed": true
   },
   "outputs": [],
   "source": [
    "from collections import deque\n",
    "'''\n",
    "use stack command to make these operation behave like a Queue.\n",
    "'''\n",
    "\n",
    "class MyQueue:\n",
    "\n",
    "    def __init__(self):\n",
    "        \"\"\"\n",
    "        Initialize your data structure here.\n",
    "        \"\"\"\n",
    "        self.MainEnterence = deque()\n",
    "        self.TempEnterence = deque()\n",
    "        self.front = None\n",
    "\n",
    "    def push(self, x: int) -> None:\n",
    "        \"\"\"\n",
    "        Push element x to the back of queue.\n",
    "        append add new entry to right side\n",
    "        \"\"\" \n",
    "        self.Enterence()\n",
    "        self.MainEnterence.append(x)\n",
    "        while(self.TempEnterence):\n",
    "            self.MainEnterence.append(self.TempEnterence.pop())\n",
    "        \n",
    "    def pop(self) -> int:\n",
    "        \"\"\"\n",
    "        Removes the element from in front of queue and returns that element.\n",
    "        \"\"\"\n",
    "        return self.MainEnterence.pop()\n",
    "    def peek(self) -> int:\n",
    "        \"\"\"\n",
    "        Get the front element.\n",
    "        \"\"\"\n",
    "        return self.MainEnterence[-1]\n",
    "    def empty(self) -> bool:\n",
    "        \"\"\"\n",
    "        Returns whether the queue is empty.\n",
    "        \"\"\"\n",
    "        return not self.MainEnterence and not self.TempEnterence\n",
    "    def Enterence(self):\n",
    "        \"\"\"shoving stuff in into the enterence \"\"\"\n",
    "        if not self.TempEnterence:\n",
    "            while self.MainEnterence:\n",
    "                self.TempEnterence.append(self.MainEnterence.pop())\n",
    "\n"
   ]
  }
 ],
 "metadata": {
  "kernelspec": {
   "display_name": "Python 3",
   "language": "python",
   "name": "python3"
  },
  "language_info": {
   "codemirror_mode": {
    "name": "ipython",
    "version": 2
   },
   "file_extension": ".py",
   "mimetype": "text/x-python",
   "name": "python",
   "nbconvert_exporter": "python",
   "pygments_lexer": "ipython2",
   "version": "2.7.6"
  },
  "pycharm": {
   "stem_cell": {
    "cell_type": "raw",
    "source": [],
    "metadata": {
     "collapsed": false
    }
   }
  }
 },
 "nbformat": 4,
 "nbformat_minor": 0
}