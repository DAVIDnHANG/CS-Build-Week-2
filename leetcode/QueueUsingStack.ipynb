{
 "cells": [
  {
   "cell_type": "code",
   "source": [
    "from collections import deque\n",
    "'''\n",
    "use stack command to make these operation behave like a Queue.\n",
    "#think of tower of Hanoi when you go thought my code\n",
    "'''\n",
    "\n",
    "class MyQueue:\n",
    "\n",
    "    def __init__(self):\n",
    "        \"\"\"\n",
    "        Initialize your data structure here.\n",
    "        \"\"\"\n",
    "        self.rodOne = deque()\n",
    "        self.front = None\n",
    "\n",
    "    def push(self, x: int) -> None:\n",
    "        \"\"\"\n",
    "        Push element x to the back of queue.\n",
    "        \n",
    "        \"\"\" \n",
    "        #this method will always keep the newest element at the bottom, and the oldest element at the top.\n",
    "        rodTwo = deque()\n",
    "        while self.rodOne:\n",
    "            rodTwo.append(self.rodOne.pop())\n",
    "        self.rodOne.append(x)\n",
    "        if self.rodOne:\n",
    "            while(rodTwo):\n",
    "                self.rodOne.append(rodTwo.pop())\n",
    "        \n",
    "    def pop(self) -> int:\n",
    "        \"\"\"\n",
    "        Removes the element from in front of queue and returns that element.\n",
    "        \"\"\"\n",
    "        #since the oldest element is already at the top.\n",
    "        return self.rodOne.pop()\n",
    "    def peek(self) -> int:\n",
    "        \"\"\"\n",
    "        Get the front element.\n",
    "        \"\"\"\n",
    "        #oldest element will always be top of the rod. \n",
    "        return self.rodOne[-1]\n",
    "    def empty(self) -> bool:\n",
    "        \"\"\"\n",
    "        Returns whether the queue is empty.\n",
    "        \"\"\"\n",
    "        return not self.rodOne \n",
    "\n"
   ],
   "metadata": {
    "collapsed": false,
    "pycharm": {
     "name": "#%% \n"
    }
   },
   "execution_count": null,
   "outputs": []
  }
 ],
 "metadata": {
  "kernelspec": {
   "display_name": "Python 3",
   "language": "python",
   "name": "python3"
  },
  "language_info": {
   "codemirror_mode": {
    "name": "ipython",
    "version": 2
   },
   "file_extension": ".py",
   "mimetype": "text/x-python",
   "name": "python",
   "nbconvert_exporter": "python",
   "pygments_lexer": "ipython2",
   "version": "2.7.6"
  },
  "pycharm": {
   "stem_cell": {
    "cell_type": "raw",
    "source": [],
    "metadata": {
     "collapsed": false
    }
   }
  }
 },
 "nbformat": 4,
 "nbformat_minor": 0
}