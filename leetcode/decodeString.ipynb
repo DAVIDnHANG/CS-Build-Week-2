{
 "cells": [
  {
   "cell_type": "code",
   "execution_count": 1,
   "metadata": {
    "collapsed": true,
    "pycharm": {
     "is_executing": false
    }
   },
   "outputs": [],
   "source": [
    "class Solution:\n",
    "    def decodeString(self, s: str) -> str:\n",
    "        dict(s)\n"
   ]
  },
  {
   "cell_type": "markdown",
   "source": [
    "#start from right to left\n",
    "we have two variable \n",
    "appendTo\n",
    "temp\n",
    "\n",
    "-1, -2, found ']', check if a '[' is on stack\n",
    "if not '[': then if appendTo[:-2]\n",
    "\n",
    "now we are on -3, -4, found '['. check for int before [\n",
    "use int to multply [-3, -4]. then append mulplying to [-2]\n",
    "\n",
    "found this ]. push onto strack. then look for [\n",
    "while looking for ]. find another. so push ] onto stack"
   ],
   "metadata": {
    "collapsed": false,
    "pycharm": {
     "name": "#%% md\n",
     "is_executing": false
    }
   }
  },
  {
   "cell_type": "code",
   "execution_count": null,
   "outputs": [],
   "source": [],
   "metadata": {
    "collapsed": false,
    "pycharm": {
     "name": "#%%\n"
    }
   }
  },
  {
   "cell_type": "code",
   "execution_count": 13,
   "outputs": [
    {
     "name": "stdout",
     "text": [
      "3\n['a']\n32\n['ac']\n"
     ],
     "output_type": "stream"
    }
   ],
   "source": [
    "s = \"3[a2[c]]\"\n",
    "number_stack = []\n",
    "string_stack = ['']\n",
    "number = ''\n",
    "for i in s:\n",
    "    if i.isdigit():\n",
    "        number += i\n",
    "        print(number)\n",
    "    elif i.isalpha():\n",
    "        string_stack[-1] += i \n",
    "        print(string_stack)\n",
    "        "
   ],
   "metadata": {
    "collapsed": false,
    "pycharm": {
     "name": "#%%\n",
     "is_executing": false
    }
   }
  },
  {
   "cell_type": "code",
   "execution_count": null,
   "outputs": [],
   "source": [
    "\n"
   ],
   "metadata": {
    "collapsed": false,
    "pycharm": {
     "name": "#%%\n"
    }
   }
  }
 ],
 "metadata": {
  "kernelspec": {
   "display_name": "Python 3",
   "language": "python",
   "name": "python3"
  },
  "language_info": {
   "codemirror_mode": {
    "name": "ipython",
    "version": 2
   },
   "file_extension": ".py",
   "mimetype": "text/x-python",
   "name": "python",
   "nbconvert_exporter": "python",
   "pygments_lexer": "ipython2",
   "version": "2.7.6"
  },
  "pycharm": {
   "stem_cell": {
    "cell_type": "raw",
    "source": [],
    "metadata": {
     "collapsed": false
    }
   }
  }
 },
 "nbformat": 4,
 "nbformat_minor": 0
}